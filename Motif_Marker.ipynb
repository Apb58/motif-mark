{
 "cells": [
  {
   "cell_type": "code",
   "execution_count": 1,
   "metadata": {
    "collapsed": true
   },
   "outputs": [],
   "source": [
    "## Motif Marker:\n",
    "## Adrian Bubie\n",
    "## 2/11/18\n",
    "## --------------------\n",
    "## This program detects motifs (selected sequences) of interest from sequences provided in a fasta format. \n",
    "## As the intended use case is to identify motifs around exon boundries that are potential regulators for splicing events, \n",
    "## this program maps detected motifs onto a representation of the intron/exons sequences provided in the input file, and\n",
    "## exports these maps as an SVG graphic.\n",
    "\n",
    "import textwrap\n",
    "import random\n",
    "import re\n",
    "import argparse as ap\n",
    "import cairo as pc\n",
    "import math"
   ]
  },
  {
   "cell_type": "code",
   "execution_count": null,
   "metadata": {
    "collapsed": true
   },
   "outputs": [],
   "source": [
    "def get_arguments():\n",
    "    parser = ap.ArgumentParser(prog='./Motif_Marker.py', formatter_class=ap.RawDescriptionHelpFormatter, description=textwrap.dedent('''\\\n",
    "    Motif Sequence Marker\n",
    "    ---------------------\n",
    "    Locates and counts specified motif sequences from given gene sequences\n",
    "    in FASTA format, then maps motifs' locations in relation to Intron/Exon of given sequence.\n",
    "    \n",
    "    Takes input of FASTA file with any exonic sequences capitalized, and intronic sequences lowercase.\n",
    "    Requires motifs to search for and size of intronic sequence flanking exons to be searched to be specified by the user. \n",
    "    '''))\n",
    "    parser.add_argument(\"-f\", help=\"Fasta file to be processed. Exon sequences must be capitalized, and gene names contained in sequence ID. Must include absolute path the file. <str>\", required=True, type=str)\n",
    "    parser.add_argument(\"-w\", help=\"Intronic flanking sequence window sized (applies to both sides of exonic regions). Default is 200bp. <int>\", required=False, type=int, default=200)\n",
    "    parser.add_argument(\"-m\", help=\"Motif file to define motif sequences to query for (one Motif per line). Motifs must use *IUPAC* Nucleotide codes. Must include absolute path to file <str>\", required=True, type=str)\n",
    "    parser.add_argument(\"-counts\", help=\"Optional output file containing the count of each motif per fasta sequence. File is created in location of imput file. <str>\", required=False, type=str, default='')\n",
    "    parser.add_argument(\"-colors\", help=\"Set color palate to use for motif markers (note: whole sequences will always be represented in black). Provide as list of hex codes (#)\", required=False, type=str, default='')\n",
    "    return parser.parse_args()"
   ]
  },
  {
   "cell_type": "code",
   "execution_count": 2,
   "metadata": {
    "collapsed": true
   },
   "outputs": [],
   "source": [
    "def iupac_interp(motifs_file):\n",
    "    '''IUPAC Interpreter: Takes motif file, parses out motifs, and returns list of regex search terms for each motif\n",
    "       based on IUPAC nomencalture.'''\n",
    "    \n",
    "    # Keys of dict are nucleotide code, and values are bases:\n",
    "    iupac = {\"A\":'[Aa]',\"C\":'[Cc]',\"G\":'[Gg]',\"T\":'[TUtu]',\"U\":'[TUtu]',\"R\":'[AGag]',\"Y\":'[CTct]',\"S\":'[GCgc]',\"W\":'[ATat]',\"K\":'[GTgt]',\"M\":'[ACac]',\"B\":'[CGTcgt]',\"D\":'[AGTagt]',\"H\":'[ACTact]',\"V\":'[ACGacg]',\"N\":'[A-Za-z]',\n",
    "             \"a\":'[Aa]',\"c\":'[Cc]',\"g\":'[Gg]',\"t\":'[TUtu]',\"u\":'[TUtu]',\"r\":'[AGag]',\"y\":'[CTct]',\"s\":'[GCgc]',\"w\":'[ATat]',\"k\":'[GTgt]',\"m\":'[ACac]',\"b\":'[CGTcgt]',\"d\":'[AGTagt]',\"h\":'[ACTact]',\"v\":'[ACGacg]',\"n\":'[A-Za-z]'}\n",
    "    \n",
    "    with open(motifs_file, 'r') as mtfs:\n",
    "        search_terms = []       # Create a list to store the returned search terms\n",
    "        line = mtfs.readline()  \n",
    "        while line:             # For each motif in the file\n",
    "            st = ''\n",
    "            mt = str(line).strip('\\n')\n",
    "            for char in mt:             # For each character in the motif\n",
    "                if char in iupac.keys():\n",
    "                    st = st+iupac[char]   # If the character is in the IUPAC dict, add it to the current search term\n",
    "                else:\n",
    "                    raise ValueError('Error: motif contains character not in IUPAC nucleotide codes; motif cannot be translated') # Throw exception if the motif contains character not in IUPAC\n",
    "            \n",
    "            search_terms.append(st)\n",
    "            line = mtfs.readline()\n",
    "    \n",
    "    return search_terms       # Return the search terms\n",
    "                "
   ]
  },
  {
   "cell_type": "code",
   "execution_count": 122,
   "metadata": {
    "collapsed": true
   },
   "outputs": [],
   "source": [
    "class fasta_sequence():\n",
    "    '''Fasta Sequence object: collection of sequence lines for a single fasta ID.\n",
    "       Object collects lines into single string for motif searching, collects seq length, and more.'''\n",
    "    \n",
    "    def __init__(self, lines):\n",
    "        self.gene = lines[0].split(' ')[0].strip('>')\n",
    "        self.seq = ''.join([line.strip('\\n') for line in lines if line.startswith('>') != True])\n",
    "    \n",
    "    def tot_seq_len(self):\n",
    "        return int(len(self.seq))\n",
    "    \n",
    "    def exon_bounds(self):\n",
    "        exon_st = self.seq.find(re.search('[ATCG]+',self.seq)[0])\n",
    "        exon_ed = (self.seq[exon_st:].find(re.search('[atcg]+',self.seq[exon_st:])[0]))+ exon_st\n",
    "        return [exon_st, exon_ed]\n",
    "        \n",
    "        "
   ]
  },
  {
   "cell_type": "code",
   "execution_count": 123,
   "metadata": {},
   "outputs": [
    {
     "data": {
      "text/plain": [
       "[11, 16]"
      ]
     },
     "execution_count": 123,
     "metadata": {},
     "output_type": "execute_result"
    }
   ],
   "source": [
    "m = fasta_sequence(['>IRSN chr:12342\\n','atcgctgtcat\\n','TCGCTacgtcgcta\\n','ATCGTACTAGC\\n'])\n",
    "m.exon_bounds()"
   ]
  },
  {
   "cell_type": "code",
   "execution_count": 124,
   "metadata": {
    "collapsed": true
   },
   "outputs": [],
   "source": [
    "def window_trim(fasta, window_size):\n",
    "    '''Window Trimmer: Takes in a fasta gene sequence and trims the flagging intronic sequences surrounding the exonic,\n",
    "       uppercase sequence to the appropriate window size. If the window size is bigger than the intronic segments, the \n",
    "       entire sequence is returned.'''\n",
    "    \n",
    "    exon_bounds = fasta.exon_bounds()\n",
    "    \n",
    "    if len(fasta.seq[:exon_bounds[0]]) > window_size:\n",
    "        search_start = len(fasta.seq[:exon_bounds[0]])-window_size\n",
    "    else:\n",
    "        search_start = 0\n",
    "    \n",
    "    if len(fasta.seq[exon_bounds[1]:]) > window_size:\n",
    "        search_end = exon_bounds[1]+window_size\n",
    "    else:\n",
    "        search_end = fasta.tot_seq_len()\n",
    "    \n",
    "    trimmed_seq = fasta.seq[search_start:search_end]\n",
    "    \n",
    "    return trimmed_seq\n",
    "        "
   ]
  },
  {
   "cell_type": "code",
   "execution_count": 138,
   "metadata": {
    "collapsed": true
   },
   "outputs": [],
   "source": [
    "def Motif_search(fasta, window, motifs):\n",
    "    \n",
    "    # Start by getting the window trimmed seq:\n",
    "    w_seq = window_trim(fasta, window)\n",
    "    \n",
    "    # For each motif, search the sequence for the positions of these motifs, and store the positions:\n",
    "    motif_positions = {}\n",
    "    for mot in motifs:\n",
    "        motif_positions[mot]=[x.start(0) for x in re.finditer(mot, w_seq)]\n",
    "\n",
    "    return motif_positions\n",
    "    "
   ]
  },
  {
   "cell_type": "code",
   "execution_count": 140,
   "metadata": {},
   "outputs": [],
   "source": [
    "####################\n",
    "## Main function: ##\n",
    "####################\n",
    "\n",
    "# Fasta = open(args.f,'r')\n",
    "# window = args.w\n",
    "# Motifs = iupac_interp(args.m)\n",
    "\n",
    "\n",
    "Motifs = iupac_interp('/Users/Adrian/BGMP/Motif_marker/test/motifs.txt')\n",
    "Fasta = open('/Users/Adrian/BGMP/Motif_marker/test/fasta_t1.fa','r')\n",
    "line = Fasta.readline()\n",
    "#seqs = []\n",
    "\n",
    "while line:\n",
    "    to_process = []\n",
    "    to_process.append(line)\n",
    "    line = Fasta.readline()\n",
    "    while (line.startswith('>') != True) and line != '':\n",
    "        to_process.append(line)\n",
    "        line = Fasta.readline()\n",
    "    \n",
    "    results = Motif_search(fasta_sequence(to_process), 200, Motifs)\n",
    "    \n",
    "    #seqs.append(results)\n",
    "\n",
    "Fasta.close()"
   ]
  },
  {
   "cell_type": "code",
   "execution_count": 141,
   "metadata": {},
   "outputs": [
    {
     "data": {
      "text/plain": [
       "[{'[CTct][Gg][Cc][CTct]': [13,\n",
       "   30,\n",
       "   100,\n",
       "   221,\n",
       "   262,\n",
       "   266,\n",
       "   289,\n",
       "   300,\n",
       "   353,\n",
       "   367,\n",
       "   391],\n",
       "  '[Gg][Cc][Aa][TUtu][Gg]': [335, 417],\n",
       "  '[TUtu][Gg][Cc][Aa][TUtu][Gg]': [334]},\n",
       " {'[CTct][Gg][Cc][CTct]': [308, 359],\n",
       "  '[Gg][Cc][Aa][TUtu][Gg]': [],\n",
       "  '[TUtu][Gg][Cc][Aa][TUtu][Gg]': []},\n",
       " {'[CTct][Gg][Cc][CTct]': [37, 49, 117, 169, 196, 428],\n",
       "  '[Gg][Cc][Aa][TUtu][Gg]': [34, 136],\n",
       "  '[TUtu][Gg][Cc][Aa][TUtu][Gg]': [135]}]"
      ]
     },
     "execution_count": 141,
     "metadata": {},
     "output_type": "execute_result"
    }
   ],
   "source": [
    "seqs"
   ]
  },
  {
   "cell_type": "code",
   "execution_count": null,
   "metadata": {
    "collapsed": true
   },
   "outputs": [],
   "source": []
  }
 ],
 "metadata": {
  "kernelspec": {
   "display_name": "Python [conda root]",
   "language": "python",
   "name": "conda-root-py"
  },
  "language_info": {
   "codemirror_mode": {
    "name": "ipython",
    "version": 3
   },
   "file_extension": ".py",
   "mimetype": "text/x-python",
   "name": "python",
   "nbconvert_exporter": "python",
   "pygments_lexer": "ipython3",
   "version": "3.6.1"
  }
 },
 "nbformat": 4,
 "nbformat_minor": 2
}
