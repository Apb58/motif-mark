{
 "cells": [
  {
   "cell_type": "code",
   "execution_count": 3,
   "metadata": {},
   "outputs": [],
   "source": [
    "## Motif Marker:\n",
    "## Adrian Bubie\n",
    "## 2/11/18\n",
    "## --------------------\n",
    "## This program detects motifs (selected sequences) of interest from sequences provided in a fasta format. \n",
    "## As the intended use case is to identify motifs around exon boundries that are potential regulators for splicing events, \n",
    "## this program maps detected motifs onto a representation of the intron/exons sequences provided in the input file, and\n",
    "## exports these maps as an SVG graphic.\n",
    "\n",
    "import textwrap\n",
    "import random\n",
    "import re\n",
    "import argparse as ap\n",
    "import cairo as pc\n",
    "import math"
   ]
  },
  {
   "cell_type": "code",
   "execution_count": null,
   "metadata": {
    "collapsed": true
   },
   "outputs": [],
   "source": [
    "def get_arguments():\n",
    "    parser = ap.ArgumentParser(prog='./Motif_Marker.py', formatter_class=ap.RawDescriptionHelpFormatter, description=textwrap.dedent('''\\\n",
    "    Motif Sequence Marker\n",
    "    ---------------------\n",
    "    Locates and counts specified motif sequences from given gene sequences\n",
    "    in FASTA format, then maps motifs' locations in relation to Intron/Exon of given sequence.\n",
    "    \n",
    "    Takes input of FASTA file with any exonic sequences capitalized, and intronic sequences lowercase.\n",
    "    Requires motifs to search for and size of intronic sequence flanking exons to be searched to be specified by the user. \n",
    "    '''))\n",
    "    parser.add_argument(\"-f\", help=\"Fasta file to be processed. Exon sequences must be capitalized, and gene names contained in sequence ID. Must include absolute path the file. <str>\", required=True, type=str)\n",
    "    parser.add_argument(\"-w\", help=\"Intronic flanking sequence window sized (applies to both sides of exonic regions). Default is 200bp. <int>\", required=False, type=int, default=200)\n",
    "    parser.add_argument(\"-m\", help=\"Motif file to define motif sequences to query for (one Motif per line). Motifs must use *IUPAC* Nucleotide codes. Must include absolute path to file <str>\", required=True, type=str)\n",
    "    parser.add_argument(\"-counts\", help=\"Optional output file containing the count of each motif per fasta sequence. File is created in location of imput file. <str>\", required=False, type=str, default='')\n",
    "    parser.add_argument(\"-colors\", help=\"Set color palate to use for motif markers (note: whole sequences will always be represented in black). Provide as list of hex codes (#)\", required=False, type=str, default='')\n",
    "    return parser.parse_args()"
   ]
  },
  {
   "cell_type": "code",
   "execution_count": 4,
   "metadata": {
    "collapsed": true
   },
   "outputs": [],
   "source": [
    "def iupac_interp(motifs_file):\n",
    "    '''IUPAC Interpreter: Takes motif file, parses out motifs, and returns list of regex search terms for each motif\n",
    "       based on IUPAC nomencalture.'''\n",
    "    \n",
    "    # Keys of dict are nucleotide code, and values are bases:\n",
    "    iupac = {\"A\":'[Aa]',\"C\":'[Cc]',\"G\":'[Gg]',\"T\":'[TUtu]',\"U\":'[TUtu]',\"R\":'[AGag]',\"Y\":'[CTct]',\"S\":'[GCgc]',\"W\":'[ATat]',\"K\":'[GTgt]',\"M\":'[ACac]',\"B\":'[CGTcgt]',\"D\":'[AGTagt]',\"H\":'[ACTact]',\"V\":'[ACGacg]',\"N\":'[A-Za-z]',\n",
    "             \"a\":'[Aa]',\"c\":'[Cc]',\"g\":'[Gg]',\"t\":'[TUtu]',\"u\":'[TUtu]',\"r\":'[AGag]',\"y\":'[CTct]',\"s\":'[GCgc]',\"w\":'[ATat]',\"k\":'[GTgt]',\"m\":'[ACac]',\"b\":'[CGTcgt]',\"d\":'[AGTagt]',\"h\":'[ACTact]',\"v\":'[ACGacg]',\"n\":'[A-Za-z]'}\n",
    "    \n",
    "    with open(motifs_file, 'r') as mtfs:\n",
    "        search_terms = []\n",
    "        line = mtfs.readline()\n",
    "        while line:\n",
    "            st = ''\n",
    "            mt = str(line).strip('\\n')\n",
    "            for char in mt:\n",
    "                if char in iupac.keys():\n",
    "                    st = st+iupac[char]\n",
    "                else:\n",
    "                    raise ValueError('Error: motif contains character not in IUPAC nucleotide codes; motif cannot be translated') # Throw exception if the motif contains character not in IUPAC\n",
    "            \n",
    "            search_terms.append(st)\n",
    "            line = mtfs.readline()\n",
    "    \n",
    "    return search_terms\n",
    "                "
   ]
  },
  {
   "cell_type": "code",
   "execution_count": 6,
   "metadata": {},
   "outputs": [
    {
     "data": {
      "text/plain": [
       "['[CTct][Gg][Cc][CTct]',\n",
       " '[TUtu][Gg][Cc][Aa][TUtu][Gg]',\n",
       " '[Gg][Cc][Aa][TUtu][Gg]']"
      ]
     },
     "execution_count": 6,
     "metadata": {},
     "output_type": "execute_result"
    }
   ],
   "source": [
    "iupac_interp('/Users/Adrian/BGMP/Motif_marker/test/motifs.txt')"
   ]
  },
  {
   "cell_type": "code",
   "execution_count": 33,
   "metadata": {},
   "outputs": [],
   "source": [
    "class fasta_sequence():\n",
    "    '''Fasta Sequence object: collection of sequence lines for a single fasta ID.\n",
    "       Object collects lines into single string for motif searching, collects seq length, and more.'''\n",
    "    \n",
    "    def __init__(self, lines):\n",
    "        self.gene = lines[0].split(' ')[0].strip('>')\n",
    "        self.seq = ''.join([line.strip('\\n') for line in lines if line.startswith('>') != True])\n",
    "    \n",
    "    def tot_seq_len(self):\n",
    "        return int(len(self.seq))\n",
    "        "
   ]
  },
  {
   "cell_type": "code",
   "execution_count": 34,
   "metadata": {},
   "outputs": [],
   "source": [
    "m = fasta_sequence(['>IRSN chr:12342\\n','ATCGCTACGT\\n','TCGCTacgtcgTC\\n','ATCGTACTAGC\\n'])"
   ]
  },
  {
   "cell_type": "code",
   "execution_count": 38,
   "metadata": {},
   "outputs": [],
   "source": [
    "####################\n",
    "## Main function: ##\n",
    "####################\n",
    "\n",
    "Fasta = open('/Users/Adrian/BGMP/Motif_marker/test/fasta_t1.fa','r')\n",
    "line = Fasta.readline()\n",
    "#seqs = []\n",
    "\n",
    "while line:\n",
    "    to_process = []\n",
    "    to_process.append(line)\n",
    "    line = Fasta.readline()\n",
    "    while (line.startswith('>') != True) and line != '':\n",
    "        to_process.append(line)\n",
    "        line = Fasta.readline()\n",
    "    \n",
    "    #seqs.append(to_process)\n",
    "\n",
    "Fasta.close()"
   ]
  },
  {
   "cell_type": "code",
   "execution_count": null,
   "metadata": {
    "collapsed": true
   },
   "outputs": [],
   "source": []
  }
 ],
 "metadata": {
  "kernelspec": {
   "display_name": "Python [conda root]",
   "language": "python",
   "name": "conda-root-py"
  },
  "language_info": {
   "codemirror_mode": {
    "name": "ipython",
    "version": 3
   },
   "file_extension": ".py",
   "mimetype": "text/x-python",
   "name": "python",
   "nbconvert_exporter": "python",
   "pygments_lexer": "ipython3",
   "version": "3.6.1"
  }
 },
 "nbformat": 4,
 "nbformat_minor": 2
}
