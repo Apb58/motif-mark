{
 "cells": [
  {
   "cell_type": "code",
   "execution_count": 10,
   "metadata": {
    "collapsed": true
   },
   "outputs": [],
   "source": [
    "import cairo\n",
    "import math"
   ]
  },
  {
   "cell_type": "code",
   "execution_count": 11,
   "metadata": {
    "collapsed": true
   },
   "outputs": [],
   "source": [
    "width = 500\n",
    "height = 800"
   ]
  },
  {
   "cell_type": "code",
   "execution_count": 12,
   "metadata": {
    "collapsed": true
   },
   "outputs": [],
   "source": [
    "surface = cairo.SVGSurface(\"plot.svg\", width, height)\n",
    "context = cairo.Context(surface)\n",
    "context.set_line_width(1)\n",
    "context.move_to(50,25) # x,y coordinates on the surface\n",
    "context.line_to(100,25) # So, drawing a line width 1 on the surface from 50 to 100\n",
    "context.stroke()\n",
    "context.move_to(80,25) # x,y coordinates on the surface\n",
    "\n",
    "#context.rectangle(70,20,20,10) #x,y top corner, followed by width, height of rec.\n",
    "#context.fill()\n",
    "#context.move_to(150,25)\n",
    "#context.line_to(200,25)\n",
    "#context.stroke()\n",
    "surface.finish()"
   ]
  },
  {
   "cell_type": "code",
   "execution_count": null,
   "metadata": {
    "collapsed": true
   },
   "outputs": [],
   "source": [
    "# Note that file dynamically renders, so if you stroke multiple times, will need to open the file only at the end."
   ]
  }
 ],
 "metadata": {
  "kernelspec": {
   "display_name": "Python [conda root]",
   "language": "python",
   "name": "conda-root-py"
  },
  "language_info": {
   "codemirror_mode": {
    "name": "ipython",
    "version": 3
   },
   "file_extension": ".py",
   "mimetype": "text/x-python",
   "name": "python",
   "nbconvert_exporter": "python",
   "pygments_lexer": "ipython3",
   "version": "3.6.1"
  }
 },
 "nbformat": 4,
 "nbformat_minor": 2
}
